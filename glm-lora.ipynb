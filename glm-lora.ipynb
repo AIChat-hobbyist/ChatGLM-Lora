{
 "cells": [
  {
   "cell_type": "markdown",
   "metadata": {
    "id": "FUfHcxHmT5Oa"
   },
   "source": [
    "# ChatGLM云端包\n",
    "- 十字鱼 https://www.bilibili.com/video/BV1cX4y1z73s\n",
    "- 阿里云专版。想训练的话，运行3.4.后再运行2.。"
   ]
  },
  {
   "cell_type": "markdown",
   "metadata": {},
   "source": [
    "## 0.查看显卡信息（可跳过）"
   ]
  },
  {
   "cell_type": "code",
   "execution_count": null,
   "metadata": {
    "id": "XPxlJ5VUT5Oc"
   },
   "outputs": [],
   "source": [
    "!nvidia-smi"
   ]
  },
  {
   "cell_type": "markdown",
   "metadata": {},
   "source": [
    "## 1.安装依赖\n",
    "- 失败时请重试。（git库有时候链接不上很正常）"
   ]
  },
  {
   "cell_type": "code",
   "execution_count": null,
   "metadata": {
    "id": "XPxlJ5VUT5Oc"
   },
   "outputs": [],
   "source": [
    "import os\n",
    "!pip install --upgrade pip\n",
    "!apt update\n",
    "!apt install -y aria2\n",
    "%cd /mnt/workspace\n",
    "!git clone https://ghproxy.com/https://github.com/AIChat-hobbyist/ChatGLM-Lora.git\n",
    "if os.path.exists('ChatGLM-Lora'):\n",
    " %cd ChatGLM-Lora\n",
    " !git pull\n",
    " !pip install -r requirements.txt\n",
    " !aria2c --console-log-level=error -c -x 16 -s 16 -j 8 -i \"model.txt\""
   ]
  },
  {
   "cell_type": "markdown",
   "metadata": {},
   "source": [
    "## 2.运行GLM\n",
    "- 运行成功后，点击gradio网址打开GLM"
   ]
  },
  {
   "cell_type": "code",
   "execution_count": null,
   "metadata": {
    "id": "JIiyXoP0T5Oj"
   },
   "outputs": [],
   "source": [
    "%cd /mnt/workspace/ChatGLM-Lora\n",
    "!python webui.py --path chatglm-6b"
   ]
  },
  {
   "cell_type": "markdown",
   "metadata": {},
   "source": [
    "## 3.数据转换\n",
    "- 9train.json是训练文本，可替换，注意格式"
   ]
  },
  {
   "cell_type": "code",
   "execution_count": null,
   "metadata": {
    "id": "Ji-9a7miT5Og"
   },
   "outputs": [],
   "source": [
    "%cd /mnt/workspace/ChatGLM-Lora\n",
    "!python cover_alpaca2jsonl.py \\\n",
    "    --data_path 9train.json \\\n",
    "    --save_path 9train.jsonl\n",
    "!python tokenize_dataset_rows.py \\\n",
    "    --jsonl_path 9train.jsonl \\\n",
    "    --save_path data/alpaca \\\n",
    "    --max_seq_length 200"
   ]
  },
  {
   "cell_type": "markdown",
   "metadata": {},
   "source": [
    "## 4.训练\n",
    "- 参数可修改"
   ]
  },
  {
   "cell_type": "code",
   "execution_count": null,
   "metadata": {
    "id": "B_sWa2EyT5Oh"
   },
   "outputs": [],
   "source": [
    "%cd /mnt/workspace/ChatGLM-Lora\n",
    "!wandb off\n",
    "!python finetune.py \\\n",
    "    --dataset_path data/alpaca \\\n",
    "    --lora_rank 32 \\\n",
    "    --per_device_train_batch_size 6 \\\n",
    "    --gradient_accumulation_steps 1 \\\n",
    "    --max_steps 1000 \\\n",
    "    --save_steps 1000 \\\n",
    "    --save_total_limit 2 \\\n",
    "    --learning_rate 1e-4 \\\n",
    "    --fp16 \\\n",
    "    --remove_unused_columns false \\\n",
    "    --logging_steps 50 \\\n",
    "    --output_dir output"
   ]
  }
 ],
 "metadata": {
  "accelerator": "GPU",
  "colab": {
   "provenance": []
  },
  "gpuClass": "standard",
  "kernelspec": {
   "display_name": "Python 3 (ipykernel)",
   "language": "python",
   "name": "python3"
  },
  "language_info": {
   "codemirror_mode": {
    "name": "ipython",
    "version": 3
   },
   "file_extension": ".py",
   "mimetype": "text/x-python",
   "name": "python",
   "nbconvert_exporter": "python",
   "pygments_lexer": "ipython3",
   "version": "3.10.9"
  },
  "vscode": {
   "interpreter": {
    "hash": "25273a2a68c96ebac13d7fb9e0db516f9be0772777a0507fe06d682a441a3ba7"
   }
  }
 },
 "nbformat": 4,
 "nbformat_minor": 4
}
